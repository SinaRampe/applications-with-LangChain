{
  "nbformat": 4,
  "nbformat_minor": 0,
  "metadata": {
    "colab": {
      "provenance": [],
      "include_colab_link": true
    },
    "kernelspec": {
      "name": "python3",
      "display_name": "Python 3"
    },
    "language_info": {
      "name": "python"
    },
    "gpuClass": "standard"
  },
  "cells": [
    {
      "cell_type": "markdown",
      "metadata": {
        "id": "view-in-github",
        "colab_type": "text"
      },
      "source": [
        "<a href=\"https://colab.research.google.com/github/SinaRampe/applications-with-LangChain/blob/main/2_GPT-4_for_pdf_QandA.ipynb\" target=\"_parent\"><img src=\"https://colab.research.google.com/assets/colab-badge.svg\" alt=\"Open In Colab\"/></a>"
      ]
    },
    {
      "cell_type": "code",
      "execution_count": 45,
      "metadata": {
        "id": "xlorSbccWEDa",
        "colab": {
          "base_uri": "https://localhost:8080/"
        },
        "outputId": "89083718-2556-4683-d2f3-f090bc563ece"
      },
      "outputs": [
        {
          "output_type": "stream",
          "name": "stdout",
          "text": [
            "Looking in indexes: https://pypi.org/simple, https://us-python.pkg.dev/colab-wheels/public/simple/\n",
            "Requirement already satisfied: langchain in /usr/local/lib/python3.10/dist-packages (0.0.157)\n",
            "Requirement already satisfied: pydantic<2,>=1 in /usr/local/lib/python3.10/dist-packages (from langchain) (1.10.7)\n",
            "Requirement already satisfied: requests<3,>=2 in /usr/local/lib/python3.10/dist-packages (from langchain) (2.27.1)\n",
            "Requirement already satisfied: aiohttp<4.0.0,>=3.8.3 in /usr/local/lib/python3.10/dist-packages (from langchain) (3.8.4)\n",
            "Requirement already satisfied: async-timeout<5.0.0,>=4.0.0 in /usr/local/lib/python3.10/dist-packages (from langchain) (4.0.2)\n",
            "Requirement already satisfied: numexpr<3.0.0,>=2.8.4 in /usr/local/lib/python3.10/dist-packages (from langchain) (2.8.4)\n",
            "Requirement already satisfied: tenacity<9.0.0,>=8.1.0 in /usr/local/lib/python3.10/dist-packages (from langchain) (8.2.2)\n",
            "Requirement already satisfied: PyYAML>=5.4.1 in /usr/local/lib/python3.10/dist-packages (from langchain) (6.0)\n",
            "Requirement already satisfied: numpy<2,>=1 in /usr/local/lib/python3.10/dist-packages (from langchain) (1.22.4)\n",
            "Requirement already satisfied: openapi-schema-pydantic<2.0,>=1.2 in /usr/local/lib/python3.10/dist-packages (from langchain) (1.2.4)\n",
            "Requirement already satisfied: dataclasses-json<0.6.0,>=0.5.7 in /usr/local/lib/python3.10/dist-packages (from langchain) (0.5.7)\n",
            "Requirement already satisfied: SQLAlchemy<3,>=1.3 in /usr/local/lib/python3.10/dist-packages (from langchain) (2.0.10)\n",
            "Requirement already satisfied: tqdm>=4.48.0 in /usr/local/lib/python3.10/dist-packages (from langchain) (4.65.0)\n",
            "Requirement already satisfied: multidict<7.0,>=4.5 in /usr/local/lib/python3.10/dist-packages (from aiohttp<4.0.0,>=3.8.3->langchain) (6.0.4)\n",
            "Requirement already satisfied: charset-normalizer<4.0,>=2.0 in /usr/local/lib/python3.10/dist-packages (from aiohttp<4.0.0,>=3.8.3->langchain) (2.0.12)\n",
            "Requirement already satisfied: aiosignal>=1.1.2 in /usr/local/lib/python3.10/dist-packages (from aiohttp<4.0.0,>=3.8.3->langchain) (1.3.1)\n",
            "Requirement already satisfied: attrs>=17.3.0 in /usr/local/lib/python3.10/dist-packages (from aiohttp<4.0.0,>=3.8.3->langchain) (23.1.0)\n",
            "Requirement already satisfied: yarl<2.0,>=1.0 in /usr/local/lib/python3.10/dist-packages (from aiohttp<4.0.0,>=3.8.3->langchain) (1.9.2)\n",
            "Requirement already satisfied: frozenlist>=1.1.1 in /usr/local/lib/python3.10/dist-packages (from aiohttp<4.0.0,>=3.8.3->langchain) (1.3.3)\n",
            "Requirement already satisfied: marshmallow<4.0.0,>=3.3.0 in /usr/local/lib/python3.10/dist-packages (from dataclasses-json<0.6.0,>=0.5.7->langchain) (3.19.0)\n",
            "Requirement already satisfied: marshmallow-enum<2.0.0,>=1.5.1 in /usr/local/lib/python3.10/dist-packages (from dataclasses-json<0.6.0,>=0.5.7->langchain) (1.5.1)\n",
            "Requirement already satisfied: typing-inspect>=0.4.0 in /usr/local/lib/python3.10/dist-packages (from dataclasses-json<0.6.0,>=0.5.7->langchain) (0.8.0)\n",
            "Requirement already satisfied: typing-extensions>=4.2.0 in /usr/local/lib/python3.10/dist-packages (from pydantic<2,>=1->langchain) (4.5.0)\n",
            "Requirement already satisfied: urllib3<1.27,>=1.21.1 in /usr/local/lib/python3.10/dist-packages (from requests<3,>=2->langchain) (1.26.15)\n",
            "Requirement already satisfied: idna<4,>=2.5 in /usr/local/lib/python3.10/dist-packages (from requests<3,>=2->langchain) (3.4)\n",
            "Requirement already satisfied: certifi>=2017.4.17 in /usr/local/lib/python3.10/dist-packages (from requests<3,>=2->langchain) (2022.12.7)\n",
            "Requirement already satisfied: greenlet!=0.4.17 in /usr/local/lib/python3.10/dist-packages (from SQLAlchemy<3,>=1.3->langchain) (2.0.2)\n",
            "Requirement already satisfied: packaging>=17.0 in /usr/local/lib/python3.10/dist-packages (from marshmallow<4.0.0,>=3.3.0->dataclasses-json<0.6.0,>=0.5.7->langchain) (23.1)\n",
            "Requirement already satisfied: mypy-extensions>=0.3.0 in /usr/local/lib/python3.10/dist-packages (from typing-inspect>=0.4.0->dataclasses-json<0.6.0,>=0.5.7->langchain) (1.0.0)\n",
            "Looking in indexes: https://pypi.org/simple, https://us-python.pkg.dev/colab-wheels/public/simple/\n",
            "Requirement already satisfied: openai in /usr/local/lib/python3.10/dist-packages (0.27.6)\n",
            "Requirement already satisfied: requests>=2.20 in /usr/local/lib/python3.10/dist-packages (from openai) (2.27.1)\n",
            "Requirement already satisfied: aiohttp in /usr/local/lib/python3.10/dist-packages (from openai) (3.8.4)\n",
            "Requirement already satisfied: tqdm in /usr/local/lib/python3.10/dist-packages (from openai) (4.65.0)\n",
            "Requirement already satisfied: certifi>=2017.4.17 in /usr/local/lib/python3.10/dist-packages (from requests>=2.20->openai) (2022.12.7)\n",
            "Requirement already satisfied: charset-normalizer~=2.0.0 in /usr/local/lib/python3.10/dist-packages (from requests>=2.20->openai) (2.0.12)\n",
            "Requirement already satisfied: urllib3<1.27,>=1.21.1 in /usr/local/lib/python3.10/dist-packages (from requests>=2.20->openai) (1.26.15)\n",
            "Requirement already satisfied: idna<4,>=2.5 in /usr/local/lib/python3.10/dist-packages (from requests>=2.20->openai) (3.4)\n",
            "Requirement already satisfied: multidict<7.0,>=4.5 in /usr/local/lib/python3.10/dist-packages (from aiohttp->openai) (6.0.4)\n",
            "Requirement already satisfied: async-timeout<5.0,>=4.0.0a3 in /usr/local/lib/python3.10/dist-packages (from aiohttp->openai) (4.0.2)\n",
            "Requirement already satisfied: aiosignal>=1.1.2 in /usr/local/lib/python3.10/dist-packages (from aiohttp->openai) (1.3.1)\n",
            "Requirement already satisfied: attrs>=17.3.0 in /usr/local/lib/python3.10/dist-packages (from aiohttp->openai) (23.1.0)\n",
            "Requirement already satisfied: frozenlist>=1.1.1 in /usr/local/lib/python3.10/dist-packages (from aiohttp->openai) (1.3.3)\n",
            "Requirement already satisfied: yarl<2.0,>=1.0 in /usr/local/lib/python3.10/dist-packages (from aiohttp->openai) (1.9.2)\n",
            "Looking in indexes: https://pypi.org/simple, https://us-python.pkg.dev/colab-wheels/public/simple/\n",
            "Requirement already satisfied: PyPDF2 in /usr/local/lib/python3.10/dist-packages (3.0.1)\n",
            "Looking in indexes: https://pypi.org/simple, https://us-python.pkg.dev/colab-wheels/public/simple/\n",
            "Requirement already satisfied: faiss-cpu in /usr/local/lib/python3.10/dist-packages (1.7.4)\n",
            "Looking in indexes: https://pypi.org/simple, https://us-python.pkg.dev/colab-wheels/public/simple/\n",
            "Requirement already satisfied: tiktoken in /usr/local/lib/python3.10/dist-packages (0.3.3)\n",
            "Requirement already satisfied: requests>=2.26.0 in /usr/local/lib/python3.10/dist-packages (from tiktoken) (2.27.1)\n",
            "Requirement already satisfied: regex>=2022.1.18 in /usr/local/lib/python3.10/dist-packages (from tiktoken) (2022.10.31)\n",
            "Requirement already satisfied: urllib3<1.27,>=1.21.1 in /usr/local/lib/python3.10/dist-packages (from requests>=2.26.0->tiktoken) (1.26.15)\n",
            "Requirement already satisfied: charset-normalizer~=2.0.0 in /usr/local/lib/python3.10/dist-packages (from requests>=2.26.0->tiktoken) (2.0.12)\n",
            "Requirement already satisfied: idna<4,>=2.5 in /usr/local/lib/python3.10/dist-packages (from requests>=2.26.0->tiktoken) (3.4)\n",
            "Requirement already satisfied: certifi>=2017.4.17 in /usr/local/lib/python3.10/dist-packages (from requests>=2.26.0->tiktoken) (2022.12.7)\n"
          ]
        }
      ],
      "source": [
        "!pip install langchain\n",
        "!pip install openai\n",
        "!pip install PyPDF2\n",
        "!pip install faiss-cpu\n",
        "!pip install tiktoken"
      ]
    },
    {
      "cell_type": "code",
      "source": [
        "from PyPDF2 import PdfReader\n",
        "from langchain.embeddings.openai import OpenAIEmbeddings\n",
        "from langchain.text_splitter import CharacterTextSplitter\n",
        "from langchain.vectorstores import ElasticVectorSearch, Pinecone, Weaviate, FAISS"
      ],
      "metadata": {
        "id": "nq0vKGFeW1KD"
      },
      "execution_count": 46,
      "outputs": []
    },
    {
      "cell_type": "code",
      "source": [
        "# Get your API keys from openai, you will need to create an account. \n",
        "# Here is the link to get the keys: https://platform.openai.com/account/billing/overview\n",
        "import os\n",
        "os.environ[\"OPENAI_API_KEY\"] = \"\" # insert openai api key"
      ],
      "metadata": {
        "id": "yKaKB_GjWKjL"
      },
      "execution_count": 74,
      "outputs": []
    },
    {
      "cell_type": "code",
      "source": [
        "# connect your Google Drive\n",
        "from google.colab import drive\n",
        "drive.mount('/content/gdrive', force_remount=True)\n",
        "root_dir = \"/content/gdrive/My Drive/\""
      ],
      "metadata": {
        "colab": {
          "base_uri": "https://localhost:8080/"
        },
        "id": "DuSRy_lbWfE3",
        "outputId": "56d86a66-2471-44dc-b1d4-b62cc8a9361c"
      },
      "execution_count": 48,
      "outputs": [
        {
          "output_type": "stream",
          "name": "stdout",
          "text": [
            "Mounted at /content/gdrive\n"
          ]
        }
      ]
    },
    {
      "cell_type": "code",
      "source": [
        "# location of the pdf file/files. \n",
        "reader = PdfReader('/content/gdrive/My Drive/data/Personalised prescribing_main report_1_0.pdf')"
      ],
      "metadata": {
        "id": "NalD3XkQWrJR"
      },
      "execution_count": 49,
      "outputs": []
    },
    {
      "cell_type": "code",
      "source": [
        "reader"
      ],
      "metadata": {
        "colab": {
          "base_uri": "https://localhost:8080/"
        },
        "id": "SwbEBhd0ZUfX",
        "outputId": "bb745eea-0443-49df-9685-c1e36365aacf"
      },
      "execution_count": 50,
      "outputs": [
        {
          "output_type": "execute_result",
          "data": {
            "text/plain": [
              "<PyPDF2._reader.PdfReader at 0x7f59fa780160>"
            ]
          },
          "metadata": {},
          "execution_count": 50
        }
      ]
    },
    {
      "cell_type": "code",
      "source": [
        "# read data from the file and put them into a variable called raw_text\n",
        "raw_text = ''\n",
        "for i, page in enumerate(reader.pages):\n",
        "    text = page.extract_text()\n",
        "    if text:\n",
        "        raw_text += text"
      ],
      "metadata": {
        "id": "2VXlucKiW7bX"
      },
      "execution_count": 51,
      "outputs": []
    },
    {
      "cell_type": "code",
      "source": [
        "# raw_text"
      ],
      "metadata": {
        "id": "Gy3UwHGAZa0M"
      },
      "execution_count": 52,
      "outputs": []
    },
    {
      "cell_type": "code",
      "source": [
        "raw_text[:100]"
      ],
      "metadata": {
        "colab": {
          "base_uri": "https://localhost:8080/",
          "height": 35
        },
        "id": "CQkqUBlzW-Xv",
        "outputId": "c0382e2d-300f-4507-b630-9f69f0f0cbbe"
      },
      "execution_count": 53,
      "outputs": [
        {
          "output_type": "execute_result",
          "data": {
            "text/plain": [
              "'1\\n© Royal College of Physicians and British Pharmacological Society 2022\\nUsing pharmacogenomics to  '"
            ],
            "application/vnd.google.colaboratory.intrinsic+json": {
              "type": "string"
            }
          },
          "metadata": {},
          "execution_count": 53
        }
      ]
    },
    {
      "cell_type": "code",
      "source": [
        "# We need to split the text that we read into smaller chunks so that during information retreival we don't hit the token size limits. \n",
        "\n",
        "text_splitter = CharacterTextSplitter(        \n",
        "    separator = \"\\n\",\n",
        "    chunk_size = 4000,\n",
        "    chunk_overlap  = 800,\n",
        "    length_function = len,\n",
        ")\n",
        "texts = text_splitter.split_text(raw_text)"
      ],
      "metadata": {
        "id": "VdXzkpf9XAfP"
      },
      "execution_count": 54,
      "outputs": []
    },
    {
      "cell_type": "code",
      "source": [
        "len(texts)"
      ],
      "metadata": {
        "colab": {
          "base_uri": "https://localhost:8080/"
        },
        "id": "ozkNTiNuZ0TX",
        "outputId": "c1a20482-efa3-4682-d508-6c8399aba6ff"
      },
      "execution_count": 55,
      "outputs": [
        {
          "output_type": "execute_result",
          "data": {
            "text/plain": [
              "40"
            ]
          },
          "metadata": {},
          "execution_count": 55
        }
      ]
    },
    {
      "cell_type": "code",
      "source": [
        "texts[0]"
      ],
      "metadata": {
        "colab": {
          "base_uri": "https://localhost:8080/",
          "height": 105
        },
        "id": "1SqdR3wFZ3Ih",
        "outputId": "79ffdc8b-1cff-4e0e-c482-5f9d2d42b51a"
      },
      "execution_count": 56,
      "outputs": [
        {
          "output_type": "execute_result",
          "data": {
            "text/plain": [
              "'1\\n© Royal College of Physicians and British Pharmacological Society 2022\\nUsing pharmacogenomics to  \\nimprove patient outcomes\\nA report from the Royal College of Physicians and  \\nBritish Pharmacological Society joint working party2\\n© Royal College of Physicians and British Pharmacological Society 2022\\nRoyal College of Physicians\\nThe Royal College of Physicians (RCP) plays a leading \\nrole in the delivery of high-quality patient care by \\nsetting standards of medical practice and promoting \\nclinical excellence. The RCP provides physicians in over \\n30 medical specialties with education, training and \\nsupport throughout their careers. As an independent \\ncharity representing more than 40,000 fellows and \\nmembers worldwide, the RCP advises and works with \\ngovernment, patients, allied healthcare professionals \\nand the public to improve health and healthcare.\\nBritish Pharmacological \\nSociety\\nThe British Pharmacological Society (BPS) is a \\ncollaborative, global community at the heart of \\npharmacology. Founded in 1931, the BPS represents \\nmore than 4,000 members from over 60 countries. As a \\nvibrant science that studies drug action, pharmacology \\nlies at the heart of biomedical science, linking together \\nchemistry, physiology and pathology. Pharmacologists, \\nboth clinical and non-clinical, work closely with a wide \\nvariety of other disciplines that make up modern \\nbiomedical science, including but not limited to clinical \\nmedicine, biochemistry, neuroscience, molecular and \\ncell biology, genetics, immunology and cancer biology. \\nClinical pharmacology and therapeutics is a medical \\nspecialty recognised by the RCP.Citation for this document \\nRoyal College of Physicians and British Pharmacological \\nSociety. Personalised prescribing: using \\npharmacogenomics to improve patient outcomes. \\nReport of a working party. London: RCP and BPS, 2022.\\nReview date: 2026.\\nCopyright \\nAll rights reserved. No part of this publication may be \\nreproduced, distributed, or transmitted in any form or \\nby any means, including photocopying, recording or \\nother electronic or mechanical methods, without the \\nwritten permission of the copyright owner. Applications \\nto reproduce any part of this publication should be sent \\nto publications@rcp.ac.uk.\\nCopyright © Royal College of Physicians and British \\nPharmacological Society 2022 \\nISBN 978-1-86016-863-5  \\neISBN 978-1-86016-864-2\\nRoyal College of Physicians  \\n11 St Andrews Place  \\nRegent’s Park  \\nLondon NW1 4LE  \\nwww.rcp.ac.uk\\nRegistered Charity No 210508\\nBritish Pharmacological Society  \\nThe Schild Plot  \\n16 Angel Gate, City Road  \\nLondon EC1V 2PT  \\nwww.bps.ac.uk\\nRegistered Charity No 10306233\\n© Royal College of Physicians and British Pharmacological Society 2022\\nStakeholder organisati ons\\nThis report is endorsed by the following organisations: \\nAssociation of Cancer Phys icians \\nBritish Society for Allergy and Clinical Immunology \\nBritish Society for Genetic Medicine\\nBritish Society for Haematology \\nBritish Thoracic Society \\nClinical Genetics Society \\nGenomics England\\nRoyal College of Anaesthetists \\nRoyal College of General Practitioners \\nRoyal College of Psychiatrists \\nRoyal Pharmaceutica l Society \\nUK Kidney Asso ciationAcknowledgements\\nThank you to all the clinicians and patient \\nrepresentatives who gave their time, insight and experience to support the development of this report.\\nWe would also like to acknowledge staff from the RCP \\nand BPS who supported the working party and report production, including Anna Zecharia, Sophie Joseph, Simon Land, Sophia McCully, Charles Whalley,  \\nDina Koulama, Karen Porter, Jordan Marshall,  \\nJanet Leggett-Jones, Dr Norma O’Flynn, Karen Reid  \\nand Victoria Wilson.\\nThis report is dedicated to the memory of \\nProfessor Donal O’Donoghue, who championed the creation of the working party and co-chaired it at its inception.\\nThis report is also supported by the Royal College of Paediatrics and Child Health.4'"
            ],
            "application/vnd.google.colaboratory.intrinsic+json": {
              "type": "string"
            }
          },
          "metadata": {},
          "execution_count": 56
        }
      ]
    },
    {
      "cell_type": "code",
      "source": [
        "# Download embeddings from OpenAI\n",
        "embeddings = OpenAIEmbeddings()"
      ],
      "metadata": {
        "id": "TcZUsQVyXBPX"
      },
      "execution_count": 58,
      "outputs": []
    },
    {
      "cell_type": "code",
      "source": [
        "docsearch = FAISS.from_texts(texts, embeddings)"
      ],
      "metadata": {
        "id": "9C8py6wQXE5_"
      },
      "execution_count": 59,
      "outputs": []
    },
    {
      "cell_type": "code",
      "source": [
        "docsearch"
      ],
      "metadata": {
        "colab": {
          "base_uri": "https://localhost:8080/"
        },
        "id": "E_t_EpZ_XGz2",
        "outputId": "a8a98af9-79d0-4e27-91d5-9d04f77bd706"
      },
      "execution_count": 60,
      "outputs": [
        {
          "output_type": "execute_result",
          "data": {
            "text/plain": [
              "<langchain.vectorstores.faiss.FAISS at 0x7f59f590dd50>"
            ]
          },
          "metadata": {},
          "execution_count": 60
        }
      ]
    },
    {
      "cell_type": "code",
      "source": [
        "from langchain.chains.question_answering import load_qa_chain\n",
        "from langchain.llms import OpenAI\n",
        "from langchain.chat_models import ChatOpenAI"
      ],
      "metadata": {
        "id": "wpQ2VnBvXI2f"
      },
      "execution_count": 61,
      "outputs": []
    },
    {
      "cell_type": "code",
      "source": [
        "llm = ChatOpenAI(temperature=0, model_name=\"gpt-4\")"
      ],
      "metadata": {
        "id": "aOtrHhdwZOxt"
      },
      "execution_count": 62,
      "outputs": []
    },
    {
      "cell_type": "code",
      "source": [
        "chain = load_qa_chain(llm, chain_type=\"stuff\")"
      ],
      "metadata": {
        "id": "_L_Ywm-iXLhm"
      },
      "execution_count": 63,
      "outputs": []
    },
    {
      "cell_type": "code",
      "source": [
        "query = \"The main types of genetic testing approaches?\"\n",
        "docs = docsearch.similarity_search(query)\n",
        "chain.run(input_documents=docs, question=query)"
      ],
      "metadata": {
        "colab": {
          "base_uri": "https://localhost:8080/",
          "height": 70
        },
        "id": "3mtAth2jXNKO",
        "outputId": "8602fc76-8894-40ea-f458-61b44807e105"
      },
      "execution_count": 70,
      "outputs": [
        {
          "output_type": "execute_result",
          "data": {
            "text/plain": [
              "'The main types of genetic testing approaches are:\\n\\n1. Single gene testing: This approach focuses on testing a specific gene, such as HLA-B*57:01 (abacavir) and DPYD (fluoropyrimidines).\\n\\n2. Testing a panel of pharmacogenes in one test: This method involves testing multiple pharmacogenes simultaneously using various techniques, including sequencing, genome-wide arrays, or mass spectrometry.\\n\\n3. Whole-exome sequencing (WES) and whole-genome sequencing (WGS): These approaches involve sequencing the entire exome (protein-coding regions of the genome) or the whole genome, respectively. This provides comprehensive genetic information, including pharmacogenomic data.'"
            ],
            "application/vnd.google.colaboratory.intrinsic+json": {
              "type": "string"
            }
          },
          "metadata": {},
          "execution_count": 70
        }
      ]
    },
    {
      "cell_type": "code",
      "source": [
        "docs"
      ],
      "metadata": {
        "id": "zCi91ac6vi-l",
        "outputId": "f92e47ad-d546-4538-ff58-e9ab970c80e7",
        "colab": {
          "base_uri": "https://localhost:8080/"
        }
      },
      "execution_count": 72,
      "outputs": [
        {
          "output_type": "execute_result",
          "data": {
            "text/plain": [
              "[Document(page_content='based on European ancestry populations, and \\ntherefore it is vital that implementation considers the \\ndiversity of our population to ensure that we do not \\nexacerbate health and race inequalities. \\n5.5 Genotyping and laboratory \\nconsiderations\\nThe main types of genetic testing approaches \\navailable are: \\n>  single gene testing, as employed for HLA-B*57:01 \\n(abacavir) and DPYD  (fluoropyrimidines) \\n>  testing a panel of pharmacogenes in one test \\n(which could be based on a number of approaches \\nincluding sequencing, genome-wide arrays or mass \\nspectrometry)\\n>  whole-exome sequencing (WES) and whole-genome \\nsequencing (WGS).At present, since our understanding of clinically \\nactionable pharmacogenomics is limited to relatively \\nfew genes, the best options available are either single \\ngene testing or panel testing. The former is simpler and \\ncan also include POC testing. However, it requires the \\nHCP to request the test (‘a reactive approach’), and is \\nunlikely to benefit from the gains in cost-effectiveness \\nassociated with panel testing.52 Specifically, incorporating \\na panel of pharmacogenes into a single test appears the \\noptimal current clinical and cost strategy for the majority \\nof drugs with a pharmacogenomic recommendation \\n(which starts to move from a reactive testing strategy \\nto a pre-emptive approach). This is because the genes \\nrelevant to both the immediate testing indication and \\npotential future prescribing decisions are interrogated \\ntogether, in effect future-proofing the test. It is also \\nimportant to note that the cost of WES/WGS has fallen \\nrapidly and will continue to fall, and so there may come a \\ntime when most of the population have had their whole \\ngenome sequenced. The pharmacogenomic information \\ncontained within whole exomes or whole genomes should \\nnot be ‘lost’, and should be extracted for patient benefit.\\nThe centralised genomic laboratories are well placed to \\noffer and coordinate panel-based pharmacogenomic \\ntesting as their consolidated resources and expertise \\nare expected to yield high-fidelity results, appropriate \\nquality assurance, standardised practice, access to highly \\nsecure NHS digital storage, and bioinformatics pipelines \\nto interpret a patient’s raw genomic data to identify \\nalleles, genetic-based gene phenotype predictions and \\ncorresponding clinical recommendations. Centralisation \\nof genomic testing to a few laboratories also provides \\nan economy of scale.53 However, given the likelihood \\nthat the demand for testing will increase over time, it is \\nimportant that centralisation does not become a barrier \\nto personalisation of prescribing, which, by definition, \\nrequires near-patient facilities. \\nThe decision on which technology to use for \\ngenotyping/sequencing will need to be carefully \\nconsidered. It may be possible to design a broad \\napproach including biologically plausible genes/variants \\nwithin panels, but initially report clinical results only on \\nestablished actionable variants within pharmacogenes. \\nInformation from the broader dataset could be stored \\nfor future use once their actionability is established. 35\\n© Royal College of Physicians and British Pharmacological Society 2022Looking to the future, it is important to state that \\ngenomics is moving at a rapid pace, and new \\ntechniques to determine disease predisposition and \\npharmacogenomic variation will emerge. For example, \\nthere is currently increasing interest in the role of \\npolygenic risk scores (PRS), which can be derived from \\nwhole-genome genotyping or sequencing approaches. \\nPRSs can be used for disease stratification, and are \\nlikely to also be used to determine the choice of drug \\nfor treatment of diseases. It is therefore important that \\nany service specification takes into account the likely \\nadvances in this area. \\n5.6 Clinical decision support \\nFor a pharmacogenomic test result to influence \\nprescribing decisions, it must be available at the point \\nof prescribing and easy to interpret (comparable to', metadata={}),\n",
              " Document(page_content='5.4 Consent and ethics \\nFor a patient to consent to pharmacogenomic testing, \\nthey need to have capacity, be appropriately informed \\nand be free from coercion. Indeed, these consent \\nrequirements are the same as for any standard medical \\nprocedure. When consenting for pharmacogenomic \\ntesting, it is helpful to both the patient and the HCP to \\nframe the clinical settings in which pharmacogenomics \\nresults are used: namely, to guide drug and/or dose \\nselection according to guideline recommendations to \\nhelp optimise drug therapy for a diagnosed condition. \\nImportantly, this setting is equivalent to carrying out \\nrenal or liver function tests to guide drug prescribing \\ndecisions, and that analogy might conceivably aid \\npatient understanding. Framing pharmacogenetic \\ntesting as being similar to liver or renal function tests also \\nguards against genetic exceptionalism, ie the belief that \\ngenetic information is special and different from other \\ntypes of medical data.The main difference between pharmacogenomic testing \\nand renal/liver function testing is that germline genetics \\nare unchanging and so a pharmacogenomic panel test \\nmay only need to be carried out once yet could influence \\nmultiple prescribing decisions over time, whereas \\nrenal and hepatic functions change dynamically, \\nnecessitating more frequent testing. Clearly, as research \\nadvances and/or the patient is prescribed new drugs, \\npharmacogenomic advice relating to specific drug–\\ngene variant pairs will change. This may, if not already \\ncovered by the original gene panel test, require further \\npharmacogenomic testing. \\nWe have drawn a distinction between the consent \\nprocesses required for pharmacogenomic testing, and \\nthe more detailed consenting procedures needed for \\nWGS/whole-exome sequencing (WES), for example \\nin the diagnosis of rare diseases. The latter requires \\nexpert input from genetic health professionals, including 34\\n© Royal College of Physicians and British Pharmacological Society 2022clinical geneticists and genetic counsellors, to impart \\ninformation on the disease causing gene mutation(s), \\nvariants of uncertain significance (VUS) and clinically \\nsignificant incidental findings (eg variants in known \\ndisease-causing genes unrelated to the test indication).51 \\nOf course, WGS/WES will also contain valuable \\npharmacogenomic information, and this should be \\ndiscussed with patients where it may make a clinically \\nsignificant difference to drug choice and/or drug dose. \\nVUS are present in pharmacogenes, and although \\nimplementation is largely based on known functional \\nvariants, further research will be essential to determine \\nwhether these VUS have any functional consequences.\\nSome of the other relevant ethical considerations \\n(for instance, trust, data storage conditions, patient \\nconfidentiality) are included in other parts of this report. \\nHowever, it is important to mention two other ethical \\nissues of relevance:  \\n>  Distributional justice – there should be fair distribution \\nof scarce public health resources and thus health \\neconomic analysis should form part of the process of \\nimplementation of pharmacogenomics.  \\n>  Social justice – genetic research has largely been \\nbased on European ancestry populations, and \\ntherefore it is vital that implementation considers the \\ndiversity of our population to ensure that we do not \\nexacerbate health and race inequalities. \\n5.5 Genotyping and laboratory \\nconsiderations\\nThe main types of genetic testing approaches \\navailable are: \\n>  single gene testing, as employed for HLA-B*57:01 \\n(abacavir) and DPYD  (fluoropyrimidines) \\n>  testing a panel of pharmacogenes in one test \\n(which could be based on a number of approaches \\nincluding sequencing, genome-wide arrays or mass \\nspectrometry)\\n>  whole-exome sequencing (WES) and whole-genome \\nsequencing (WGS).At present, since our understanding of clinically \\nactionable pharmacogenomics is limited to relatively \\nfew genes, the best options available are either single', metadata={}),\n",
              " Document(page_content='of somatic gene driver mutations is now successfully \\nused in targeted therapies for cancer. Lastly, this report \\nalso does not cover (a) conditions due to ultra-rare \\ngenetic mutations that are amenable to bespoke \\npharmacological intervention; and (b) techniques which \\nare used for drug discovery based on genomics data.Pharmacogenomics is currently used for a small \\nnumber of drugs which span multiple specialties.  \\nFor example, human leukocyte antigen (HLA) testing \\nis mandated  before starting abacavir to treat HIV \\ninfection. Pharmacogenomic tests should also be used \\nbefore starting thiopurines and fluoropyrimidines, \\nas well as carbamazepine, particularly in people \\nof Asian descent. In most cases, genetic testing is \\nneeded to identify genetic variation in an individual, \\nbut phenotypic testing can be also used for some of \\nthe genetic polymorphisms. For example, thiopurine \\nS-methyltransferase (TMPT) testing in the UK is \\noften phenotypic, measuring the enzyme activity in \\nthe blood, rather than using genetic data to assess \\nmetaboliser status. However, in some centres in the \\nUSA, both genotype and phenotype are tested prior  \\nto drug prescription.A brief background  \\nto pharmacogenomics \\nPharmacogenomics refers to the interface between drugs and genomics, using \\na patient’s genetic information to improve therapeutic effect and decrease \\ninadvertent harm by giving a drug and dose that are optimal. It may also inform \\nmore targeted therapeutic drug or clinical monitoring.216\\n© Royal College of Physicians and British Pharmacological Society 2022Specialties impacted by drugs affected by \\npharmacogenomic variation span multiple disciplines, \\nincluding allergy and immunology, cardiology, \\ndermatology, endocrinology, gastroenterology, \\ninfectious diseases, nephrology, neurology, oncology, \\nrespiratory medicine and rheumatology. Cross-cutting \\nspecialties such as clinical pharmacology, working in \\ncollaboration with pharmacists, will be of the utmost \\nimportance in the future to provide therapeutic \\nguidance across specialties. Pharmacogenomics is \\nalso relevant to paediatrics, psychiatry, anaesthetics \\nand other specialties, and will impact in particular on \\nprimary care services, which oversee the long-term care \\nof patients and undertake the majority of prescribing in \\nthe NHS. \\nEstablishing an evidentiary threshold to implement \\nfurther pharmacogenomic-guided prescribing in \\nmainstream practice has not been straightforward, \\nbut international consortia have now provided \\nbrief guidance which supplements that provided \\nby regulatory agencies in the summary of product \\ncharacteristics (SmPC). The most widely recognised \\nconsortia are the Clinical Pharmacogenetics \\nImplementation Consortium (CPIC) and the Dutch Pharmacogenetics Working Group (DPWG).11,12 \\nHowever, these guidelines often assume pre-existing \\navailability of genetic data (ie they don’t provide testing \\neligibility criteria). PharmGKB, a curated database, \\ncompiles a comprehensive summary of data relating \\nto each gene–drug pair,13 and is a highly useful \\nsource of information. If a pharmacogenetic test is \\ncommissioned, it will need to have been included in \\nthe National Genomic Test Directory, which will outline \\neligibility, testing scope and actionability within the \\nwhole of the UK NHS. \\nIf a patient is tested for the purpose of \\npharmacogenomics, questions sometimes remain \\nabout the best approach (Table 1): \\n>  Is it best to pre-emptively check a panel of \\npharmacogenes or only the variant of interest?\\n>  Should testing take place before prescribing, after \\nan adverse event occurs or where there is lack of \\nefficacy? \\n>  As whole exome or whole genome testing becomes \\nmore widespread, how can we efficiently extract \\npharmacogenomic information?Abacavir – HLA-B*57:01  \\nA 33-year-old man with bilateral pneumonia is found to be HIV positive  \\nand agrees to commence antiretroviral therapy (ART). He undergoes genetic', metadata={}),\n",
              " Document(page_content='the National Genomic Test Directory, which will outline \\neligibility, testing scope and actionability within the \\nwhole of the UK NHS. \\nIf a patient is tested for the purpose of \\npharmacogenomics, questions sometimes remain \\nabout the best approach (Table 1): \\n>  Is it best to pre-emptively check a panel of \\npharmacogenes or only the variant of interest?\\n>  Should testing take place before prescribing, after \\nan adverse event occurs or where there is lack of \\nefficacy? \\n>  As whole exome or whole genome testing becomes \\nmore widespread, how can we efficiently extract \\npharmacogenomic information?Abacavir – HLA-B*57:01  \\nA 33-year-old man with bilateral pneumonia is found to be HIV positive  \\nand agrees to commence antiretroviral therapy (ART). He undergoes genetic  \\ntesting, which shows that he does not carry the HLA allele HLA-B*57:01 ,  \\nand is commenced on abacavir/lamivudine/dolutegravir, which he tolerates.\\n>  Abacavir is a nucleoside reverse transcriptase inhibitor (NRTI) that inhibits  \\nHIV replication.\\n>  The HLA allele HLA-B*57:01  was found to be strongly associated with abacavir hypersensitivity syndrome \\n(AHS) in 2002,4 and a pivotal randomised controlled trial demonstrated that immunologically confirmed \\nAHS could be completely eliminated by avoiding abacavir in patients with the HLA-B*57:01 allele.5\\n>  Abacavir is thus contraindicated in patients who carry the HLA-B*57:01  allele6 and so screening for \\nHLA-B*57:01  prior to prescribing abacavir has been part of routine clinical care in the NHS  \\nand other healthcare systems for over a decade.\\n>  Prior to introducing pre-prescription HLA-B*57:01 testing, AHS occurred in approximately 5–7%  \\nof patients receiving abacavir.4,7\\n>  Genetic testing for HLA-B*57:01  has been shown to be cost-effective8 and to reduce the incidence of AHS \\nin real-world clinical practice.9,10\\n>  The abacavir– HLA-B*57:01 association is often considered as a paragon of  \\npharmacogenomics in clinical practice.© Royal College of Physicians and British Pharmacological Society 202217Fig 3. Pharmacokinetic and pharmacodynamic factors affecting drug responseImmune\\nType  \\nIVType  \\nI–III Non-immune\\nOn-t arget \\nwrong tissue\\nOff-t arget \\nany tissueAbsorptio n\\nMetabolismDistributio n\\nExcretio nPharmacokinetics\\nType B ADRsPharmacodynamics\\nOn-t arget Off-t arget\\nType A \\nADRsT-cell Antibody\\nImmune \\ncomplexEffic acy\\nExcessi veInsufficient\\nOptimal18\\n© Royal College of Physicians and British Pharmacological Society 2022Normal CYP\\nAbnormal CYP\\nPoor met aboliser Intermediat e met aboliser Extensiv e met aboliser\\nFig 4. Cytochrome P450 pharmacogenetic variation leading to changes in enzyme activity and thereby  \\nmetaboliser status19\\n© Royal College of Physicians and British Pharmacological Society 2022Table 1. Comparison of different pharmacogenomic testing approaches\\nTesting  \\nappr oachPGx gene panel Gene ta rgeted Gene ta rgeted \\npoint of care Large gene panels \\nwith secondary \\nPGx t argets Whole genome \\nsequencin g\\nTurnaround  \\ntime3–7 days 24–72 hours <24 hours  \\n(can be 30 mins )7–14 days 4–6 w eeks\\nExamples Variant-t argeted   \\nSNP panels  \\n(eg Sequenom)  \\nor sequencing  \\n(eg Nimagen )\\nShortlist of drug  \\n– gene pairs \\nscoped via PGx \\nworking groupReal-time PCR  \\ntesting f or TPMT/  \\nNUDT15 for \\nimmunosuppressant s\\nLAMP testing  \\nfor DPYDm.1555A>G \\nvariant with  \\naminogly cosides\\nAlgorithm to guide  \\nwarfa rin dosin gDPYD  testing added \\nto large cancer \\npanels\\nSLCO1B1 gene \\ntesting f or sta tins \\nadded to FH pane l100K Genome s\\nProject return  \\nof PGx results \\n(ongoing work)\\nAdvantages Simult aneous  \\ntesting of \\nmultiple PGx \\ntargets to  \\ninform future \\nprescribin g\\nCost-eff ectiv e in \\nlong termRapid\\nTargeted\\nInexpensiveRapid\\nTargeted\\nTechnology \\nadvances may  \\nlower costsCost-eff ective\\nEasily incorpor ated  \\ninto existing clinical  \\npathway sOptimises use of \\nexisting dat a\\nChallenges High cost\\nImplement ation \\nacross all \\nhealthcare \\nsectors \\nRequires linke d \\nelectronic \\nhealthcare \\nrecord s', metadata={})]"
            ]
          },
          "metadata": {},
          "execution_count": 72
        }
      ]
    },
    {
      "cell_type": "code",
      "source": [
        "query = \"What is personalized medicine?\"\n",
        "docs = docsearch.similarity_search(query)\n",
        "chain.run(input_documents=docs, question=query)"
      ],
      "metadata": {
        "colab": {
          "base_uri": "https://localhost:8080/",
          "height": 70
        },
        "id": "RahXBIXjXO7X",
        "outputId": "a60f9424-1d86-43e1-f84e-97e7516057ad"
      },
      "execution_count": 65,
      "outputs": [
        {
          "output_type": "execute_result",
          "data": {
            "text/plain": [
              "\"Personalized medicine, also known as precision medicine or individualized medicine, is a medical approach that takes into account an individual's unique genetic makeup, lifestyle, and environmental factors to tailor prevention, diagnosis, and treatment strategies. This approach aims to provide more effective and safer healthcare by considering the specific characteristics of each person, rather than using a one-size-fits-all approach. Personalized medicine often involves the use of pharmacogenomics, which is the study of how a person's genes affect their response to drugs, to guide the choice and dosage of medications for optimal effectiveness and minimal side effects.\""
            ],
            "application/vnd.google.colaboratory.intrinsic+json": {
              "type": "string"
            }
          },
          "metadata": {},
          "execution_count": 65
        }
      ]
    },
    {
      "cell_type": "code",
      "source": [
        "! pip install anvil-uplink"
      ],
      "metadata": {
        "id": "qLynnMo0cj8m",
        "colab": {
          "base_uri": "https://localhost:8080/",
          "height": 259
        },
        "outputId": "e5d35bbf-3de6-41f4-d4b4-0270fe6ab94f"
      },
      "execution_count": 66,
      "outputs": [
        {
          "output_type": "stream",
          "name": "stdout",
          "text": [
            "Looking in indexes: https://pypi.org/simple, https://us-python.pkg.dev/colab-wheels/public/simple/\n",
            "Requirement already satisfied: anvil-uplink in /usr/local/lib/python3.10/dist-packages (0.4.2)\n",
            "Requirement already satisfied: six in /usr/local/lib/python3.10/dist-packages (from anvil-uplink) (1.16.0)\n",
            "Collecting argparse\n",
            "  Using cached argparse-1.4.0-py2.py3-none-any.whl (23 kB)\n",
            "Requirement already satisfied: ws4py in /usr/local/lib/python3.10/dist-packages (from anvil-uplink) (0.5.1)\n",
            "Requirement already satisfied: future in /usr/local/lib/python3.10/dist-packages (from anvil-uplink) (0.18.3)\n",
            "Installing collected packages: argparse\n",
            "Successfully installed argparse-1.4.0\n"
          ]
        },
        {
          "output_type": "display_data",
          "data": {
            "application/vnd.colab-display-data+json": {
              "pip_warning": {
                "packages": [
                  "argparse"
                ]
              }
            }
          },
          "metadata": {}
        }
      ]
    },
    {
      "cell_type": "code",
      "source": [
        "import anvil.server"
      ],
      "metadata": {
        "id": "qMVRaXL1fYFL"
      },
      "execution_count": 67,
      "outputs": []
    },
    {
      "cell_type": "code",
      "source": [
        "anvil.server.connect(\"\") #insert anvil uplink"
      ],
      "metadata": {
        "id": "oBuaTFtTfglS",
        "outputId": "d82afe58-a447-451f-f05a-9a54492aa86e",
        "colab": {
          "base_uri": "https://localhost:8080/"
        }
      },
      "execution_count": 76,
      "outputs": [
        {
          "output_type": "stream",
          "name": "stdout",
          "text": [
            "Disconnecting from previous connection first...\n",
            "Connecting to wss://anvil.works/uplink\n",
            "Anvil websocket open\n",
            "Connected to \"Default environment\" as SERVER\n"
          ]
        }
      ]
    },
    {
      "cell_type": "code",
      "source": [
        "# Tells the jupyter server that this is a an Anvil callable function\n",
        "@anvil.server.callable\n",
        "# Define the function that is going to do the NLP\n",
        "def answer_questions(prompt):\n",
        "  docs = docsearch.similarity_search(prompt)\n",
        "  return chain.run(input_documents=docs, question=prompt)"
      ],
      "metadata": {
        "id": "R3V9NI34f8Vs"
      },
      "execution_count": 71,
      "outputs": []
    }
  ]
}